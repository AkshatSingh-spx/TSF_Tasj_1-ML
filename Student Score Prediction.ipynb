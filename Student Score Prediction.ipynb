{
 "cells": [
  {
   "cell_type": "markdown",
   "id": "59f30bf7",
   "metadata": {},
   "source": [
    "  #                 GRIP: The Sparks Foundation"
   ]
  },
  {
   "cell_type": "markdown",
   "id": "54092c3c",
   "metadata": {},
   "source": [
    "## Data Science and Business Analytics Intern"
   ]
  },
  {
   "cell_type": "markdown",
   "id": "385012fe",
   "metadata": {},
   "source": [
    "## Author: Akshat Singh"
   ]
  },
  {
   "cell_type": "markdown",
   "id": "22da968f",
   "metadata": {},
   "source": [
    "##### In this task we have to predict the percentage score of a student based on the number of hours studied.The task has two varibles where the feature is the no. of hours studied and target values is the percentage score. This can be sloved using simple linear regression."
   ]
  },
  {
   "cell_type": "markdown",
   "id": "7ace8563",
   "metadata": {},
   "source": [
    "##### Importing Libraries"
   ]
  },
  {
   "cell_type": "code",
   "execution_count": 1,
   "id": "1cb920ea",
   "metadata": {},
   "outputs": [],
   "source": [
    "import pandas as pd\n",
    "import numpy as np\n",
    "import matplotlib.pyplot as plt\n",
    "import seaborn as sns\n",
    "%matplotlib inline"
   ]
  },
  {
   "cell_type": "markdown",
   "id": "04fbe363",
   "metadata": {},
   "source": [
    "##### Reading the Data from remote url"
   ]
  },
  {
   "cell_type": "code",
   "execution_count": 2,
   "id": "c7d789ef",
   "metadata": {},
   "outputs": [],
   "source": [
    "url = \"http://bit.ly/w-data\"\n",
    "data=pd.read_csv(url)"
   ]
  },
  {
   "cell_type": "markdown",
   "id": "c720ecbf",
   "metadata": {},
   "source": [
    "##### Exporing Data"
   ]
  },
  {
   "cell_type": "code",
   "execution_count": 3,
   "id": "dbfeb207",
   "metadata": {},
   "outputs": [
    {
     "name": "stdout",
     "output_type": "stream",
     "text": [
      "(25, 2)\n"
     ]
    },
    {
     "data": {
      "text/html": [
       "<div>\n",
       "<style scoped>\n",
       "    .dataframe tbody tr th:only-of-type {\n",
       "        vertical-align: middle;\n",
       "    }\n",
       "\n",
       "    .dataframe tbody tr th {\n",
       "        vertical-align: top;\n",
       "    }\n",
       "\n",
       "    .dataframe thead th {\n",
       "        text-align: right;\n",
       "    }\n",
       "</style>\n",
       "<table border=\"1\" class=\"dataframe\">\n",
       "  <thead>\n",
       "    <tr style=\"text-align: right;\">\n",
       "      <th></th>\n",
       "      <th>Hours</th>\n",
       "      <th>Scores</th>\n",
       "    </tr>\n",
       "  </thead>\n",
       "  <tbody>\n",
       "    <tr>\n",
       "      <th>0</th>\n",
       "      <td>2.5</td>\n",
       "      <td>21</td>\n",
       "    </tr>\n",
       "    <tr>\n",
       "      <th>1</th>\n",
       "      <td>5.1</td>\n",
       "      <td>47</td>\n",
       "    </tr>\n",
       "    <tr>\n",
       "      <th>2</th>\n",
       "      <td>3.2</td>\n",
       "      <td>27</td>\n",
       "    </tr>\n",
       "    <tr>\n",
       "      <th>3</th>\n",
       "      <td>8.5</td>\n",
       "      <td>75</td>\n",
       "    </tr>\n",
       "    <tr>\n",
       "      <th>4</th>\n",
       "      <td>3.5</td>\n",
       "      <td>30</td>\n",
       "    </tr>\n",
       "  </tbody>\n",
       "</table>\n",
       "</div>"
      ],
      "text/plain": [
       "   Hours  Scores\n",
       "0    2.5      21\n",
       "1    5.1      47\n",
       "2    3.2      27\n",
       "3    8.5      75\n",
       "4    3.5      30"
      ]
     },
     "execution_count": 3,
     "metadata": {},
     "output_type": "execute_result"
    }
   ],
   "source": [
    "print(data.shape)\n",
    "data.head()"
   ]
  },
  {
   "cell_type": "code",
   "execution_count": 4,
   "id": "00756120",
   "metadata": {},
   "outputs": [
    {
     "data": {
      "text/html": [
       "<div>\n",
       "<style scoped>\n",
       "    .dataframe tbody tr th:only-of-type {\n",
       "        vertical-align: middle;\n",
       "    }\n",
       "\n",
       "    .dataframe tbody tr th {\n",
       "        vertical-align: top;\n",
       "    }\n",
       "\n",
       "    .dataframe thead th {\n",
       "        text-align: right;\n",
       "    }\n",
       "</style>\n",
       "<table border=\"1\" class=\"dataframe\">\n",
       "  <thead>\n",
       "    <tr style=\"text-align: right;\">\n",
       "      <th></th>\n",
       "      <th>Hours</th>\n",
       "      <th>Scores</th>\n",
       "    </tr>\n",
       "  </thead>\n",
       "  <tbody>\n",
       "    <tr>\n",
       "      <th>count</th>\n",
       "      <td>25.000000</td>\n",
       "      <td>25.000000</td>\n",
       "    </tr>\n",
       "    <tr>\n",
       "      <th>mean</th>\n",
       "      <td>5.012000</td>\n",
       "      <td>51.480000</td>\n",
       "    </tr>\n",
       "    <tr>\n",
       "      <th>std</th>\n",
       "      <td>2.525094</td>\n",
       "      <td>25.286887</td>\n",
       "    </tr>\n",
       "    <tr>\n",
       "      <th>min</th>\n",
       "      <td>1.100000</td>\n",
       "      <td>17.000000</td>\n",
       "    </tr>\n",
       "    <tr>\n",
       "      <th>25%</th>\n",
       "      <td>2.700000</td>\n",
       "      <td>30.000000</td>\n",
       "    </tr>\n",
       "    <tr>\n",
       "      <th>50%</th>\n",
       "      <td>4.800000</td>\n",
       "      <td>47.000000</td>\n",
       "    </tr>\n",
       "    <tr>\n",
       "      <th>75%</th>\n",
       "      <td>7.400000</td>\n",
       "      <td>75.000000</td>\n",
       "    </tr>\n",
       "    <tr>\n",
       "      <th>max</th>\n",
       "      <td>9.200000</td>\n",
       "      <td>95.000000</td>\n",
       "    </tr>\n",
       "  </tbody>\n",
       "</table>\n",
       "</div>"
      ],
      "text/plain": [
       "           Hours     Scores\n",
       "count  25.000000  25.000000\n",
       "mean    5.012000  51.480000\n",
       "std     2.525094  25.286887\n",
       "min     1.100000  17.000000\n",
       "25%     2.700000  30.000000\n",
       "50%     4.800000  47.000000\n",
       "75%     7.400000  75.000000\n",
       "max     9.200000  95.000000"
      ]
     },
     "execution_count": 4,
     "metadata": {},
     "output_type": "execute_result"
    }
   ],
   "source": [
    "data.describe()"
   ]
  },
  {
   "cell_type": "markdown",
   "id": "d112f09d",
   "metadata": {},
   "source": [
    "##### Checking Data Info"
   ]
  },
  {
   "cell_type": "code",
   "execution_count": 5,
   "id": "984c8ca7",
   "metadata": {},
   "outputs": [
    {
     "name": "stdout",
     "output_type": "stream",
     "text": [
      "<class 'pandas.core.frame.DataFrame'>\n",
      "RangeIndex: 25 entries, 0 to 24\n",
      "Data columns (total 2 columns):\n",
      " #   Column  Non-Null Count  Dtype  \n",
      "---  ------  --------------  -----  \n",
      " 0   Hours   25 non-null     float64\n",
      " 1   Scores  25 non-null     int64  \n",
      "dtypes: float64(1), int64(1)\n",
      "memory usage: 528.0 bytes\n"
     ]
    }
   ],
   "source": [
    "data.info()"
   ]
  },
  {
   "cell_type": "markdown",
   "id": "3a4e2629",
   "metadata": {},
   "source": [
    "##### Checking for blank value"
   ]
  },
  {
   "cell_type": "code",
   "execution_count": 6,
   "id": "b76083a2",
   "metadata": {},
   "outputs": [
    {
     "data": {
      "text/plain": [
       "Hours     0\n",
       "Scores    0\n",
       "dtype: int64"
      ]
     },
     "execution_count": 6,
     "metadata": {},
     "output_type": "execute_result"
    }
   ],
   "source": [
    "data.isnull().sum()"
   ]
  },
  {
   "cell_type": "markdown",
   "id": "a017e804",
   "metadata": {},
   "source": [
    "##### Checking for duplicated values"
   ]
  },
  {
   "cell_type": "code",
   "execution_count": 7,
   "id": "4628fe04",
   "metadata": {},
   "outputs": [
    {
     "data": {
      "text/plain": [
       "0"
      ]
     },
     "execution_count": 7,
     "metadata": {},
     "output_type": "execute_result"
    }
   ],
   "source": [
    "data.duplicated().sum()"
   ]
  },
  {
   "cell_type": "markdown",
   "id": "b0e0fce0",
   "metadata": {},
   "source": [
    "##### Histogram for Hours"
   ]
  },
  {
   "cell_type": "code",
   "execution_count": 38,
   "id": "8bfb33eb",
   "metadata": {},
   "outputs": [
    {
     "data": {
      "image/png": "[encoded data removed]",
      "text/plain": [
       "<Figure size 432x288 with 1 Axes>"
      ]
     },
     "metadata": {
      "needs_background": "light"
     },
     "output_type": "display_data"
    }
   ],
   "source": [
    "plt.hist(data.Hours,facecolor=\"#00FF00\", bins = 30);"
   ]
  },
  {
   "cell_type": "markdown",
   "id": "239cc52a",
   "metadata": {},
   "source": [
    "##### Total Unique Values for Scores"
   ]
  },
  {
   "cell_type": "code",
   "execution_count": 39,
   "id": "a188c3c4",
   "metadata": {},
   "outputs": [
    {
     "data": {
      "text/plain": [
       "23"
      ]
     },
     "execution_count": 39,
     "metadata": {},
     "output_type": "execute_result"
    }
   ],
   "source": [
    "data.Scores.nunique()"
   ]
  },
  {
   "cell_type": "markdown",
   "id": "956a3ae0",
   "metadata": {},
   "source": [
    "##### Histrogram for Scores"
   ]
  },
  {
   "cell_type": "code",
   "execution_count": 40,
   "id": "b7bdc7a0",
   "metadata": {},
   "outputs": [
    {
     "data": {
      "image/png": "[encoded data removed]",
      "text/plain": [
       "<Figure size 432x288 with 1 Axes>"
      ]
     },
     "metadata": {
      "needs_background": "light"
     },
     "output_type": "display_data"
    }
   ],
   "source": [
    "plt.hist(data.Scores,facecolor=\"#00FF00\",bins=30);"
   ]
  },
  {
   "cell_type": "markdown",
   "id": "cf06f4d9",
   "metadata": {},
   "source": [
    "##### Checking Data Distribution"
   ]
  },
  {
   "cell_type": "code",
   "execution_count": 58,
   "id": "7b1d1af5",
   "metadata": {},
   "outputs": [
    {
     "name": "stdout",
     "output_type": "stream",
     "text": [
      "Feature:  Hours\n"
     ]
    },
    {
     "data": {
      "image/png": "[encoded data removed]",
      "text/plain": [
       "<Figure size 360x360 with 1 Axes>"
      ]
     },
     "metadata": {
      "needs_background": "light"
     },
     "output_type": "display_data"
    },
    {
     "name": "stdout",
     "output_type": "stream",
     "text": [
      "********************************************************************************************************************\n",
      "Feature:  Scores\n"
     ]
    },
    {
     "data": {
      "image/png": "[encoded data removed]",
      "text/plain": [
       "<Figure size 360x360 with 1 Axes>"
      ]
     },
     "metadata": {
      "needs_background": "light"
     },
     "output_type": "display_data"
    },
    {
     "name": "stdout",
     "output_type": "stream",
     "text": [
      "********************************************************************************************************************\n"
     ]
    }
   ],
   "source": [
    "for col in data.columns:\n",
    "    print(\"Feature: \",col)\n",
    "    sns.displot(data[col],color=\"#9A0EEA\")\n",
    "    plt.show()\n",
    "    print(\"*\"*116)"
   ]
  },
  {
   "cell_type": "markdown",
   "id": "91a4925e",
   "metadata": {},
   "source": [
    "##### Checking realtionship between hours and scores"
   ]
  },
  {
   "cell_type": "code",
   "execution_count": 69,
   "id": "e6bff40d",
   "metadata": {},
   "outputs": [
    {
     "data": {
      "image/png": "[encoded data removed]",
      "text/plain": [
       "<Figure size 432x288 with 1 Axes>"
      ]
     },
     "metadata": {
      "needs_background": "light"
     },
     "output_type": "display_data"
    }
   ],
   "source": [
    "sns.regplot(x = 'Hours',y = 'Scores',data=data);"
   ]
  },
  {
   "cell_type": "markdown",
   "id": "3ba7ef15",
   "metadata": {},
   "source": [
    "<b><font color='green'>There exists a linear realtionship between the 2 Variables</font></b>"
   ]
  },
  {
   "cell_type": "markdown",
   "id": "97382a53",
   "metadata": {},
   "source": [
    "###### Checking the variation in total hours wrt total scores"
   ]
  },
  {
   "cell_type": "code",
   "execution_count": 79,
   "id": "bd52bc07",
   "metadata": {},
   "outputs": [
    {
     "data": {
      "image/png": "[encoded data removed]",
      "text/plain": [
       "<Figure size 432x288 with 1 Axes>"
      ]
     },
     "metadata": {
      "needs_background": "light"
     },
     "output_type": "display_data"
    }
   ],
   "source": [
    "sns.barplot(x = 'Scores',y = 'Hours',data=data);"
   ]
  },
  {
   "cell_type": "markdown",
   "id": "a2395a0c",
   "metadata": {},
   "source": [
    "#### The scores have increased with an increase in the total nuber of hours"
   ]
  },
  {
   "cell_type": "markdown",
   "id": "c137c221",
   "metadata": {},
   "source": [
    "## Model Building"
   ]
  },
  {
   "cell_type": "markdown",
   "id": "4a785d29",
   "metadata": {},
   "source": [
    "##### Splitting the data into train and test"
   ]
  },
  {
   "cell_type": "code",
   "execution_count": 82,
   "id": "f6568bd9",
   "metadata": {},
   "outputs": [],
   "source": [
    "from sklearn.model_selection import train_test_split"
   ]
  },
  {
   "cell_type": "code",
   "execution_count": 83,
   "id": "98c5ca0f",
   "metadata": {},
   "outputs": [],
   "source": [
    "y = data.Scores #Target\n",
    "X = data.drop(['Scores'],axis = 1)"
   ]
  },
  {
   "cell_type": "code",
   "execution_count": 84,
   "id": "b0f860a0",
   "metadata": {},
   "outputs": [],
   "source": [
    "X_train, X_test,y_train,y_test = train_test_split(X,\n",
    "                                                 y,test_size=0.2,\n",
    "                                                 random_state=42)\n",
    "                                                "
   ]
  },
  {
   "cell_type": "markdown",
   "id": "49f47d4c",
   "metadata": {},
   "source": [
    "##### Importing Linear Regression Model from sklearn"
   ]
  },
  {
   "cell_type": "code",
   "execution_count": 85,
   "id": "44309163",
   "metadata": {},
   "outputs": [
    {
     "data": {
      "text/plain": [
       "LinearRegression()"
      ]
     },
     "execution_count": 85,
     "metadata": {},
     "output_type": "execute_result"
    }
   ],
   "source": [
    "from sklearn.linear_model import LinearRegression\n",
    "\n",
    "lm = LinearRegression()\n",
    "lm.fit(X_train,y_train)"
   ]
  },
  {
   "cell_type": "markdown",
   "id": "3d4ad0b6",
   "metadata": {},
   "source": [
    "##### Plotting the coefficients and intercept"
   ]
  },
  {
   "cell_type": "code",
   "execution_count": 86,
   "id": "997cbb80",
   "metadata": {},
   "outputs": [
    {
     "data": {
      "image/png": "[encoded data removed]",
      "text/plain": [
       "<Figure size 432x288 with 1 Axes>"
      ]
     },
     "metadata": {
      "needs_background": "light"
     },
     "output_type": "display_data"
    }
   ],
   "source": [
    "## y = mx + c\n",
    "line = lm.coef_*X + lm.intercept_\n",
    "\n",
    "# Plotting for the test data\n",
    "plt.scatter(X,y)\n",
    "plt.plot(X,line);\n",
    "plt.show()"
   ]
  },
  {
   "cell_type": "markdown",
   "id": "5a17b008",
   "metadata": {},
   "source": [
    "##### Marking predictions on the test data"
   ]
  },
  {
   "cell_type": "code",
   "execution_count": 87,
   "id": "59ac0a41",
   "metadata": {},
   "outputs": [
    {
     "data": {
      "text/plain": [
       "array([83.18814104, 27.03208774, 27.03208774, 69.63323162, 59.95115347])"
      ]
     },
     "execution_count": 87,
     "metadata": {},
     "output_type": "execute_result"
    }
   ],
   "source": [
    "y_pred = lm.predict(X_test)\n",
    "y_pred"
   ]
  },
  {
   "cell_type": "code",
   "execution_count": 88,
   "id": "e472484b",
   "metadata": {},
   "outputs": [
    {
     "data": {
      "text/html": [
       "<div>\n",
       "<style scoped>\n",
       "    .dataframe tbody tr th:only-of-type {\n",
       "        vertical-align: middle;\n",
       "    }\n",
       "\n",
       "    .dataframe tbody tr th {\n",
       "        vertical-align: top;\n",
       "    }\n",
       "\n",
       "    .dataframe thead th {\n",
       "        text-align: right;\n",
       "    }\n",
       "</style>\n",
       "<table border=\"1\" class=\"dataframe\">\n",
       "  <thead>\n",
       "    <tr style=\"text-align: right;\">\n",
       "      <th></th>\n",
       "      <th>Actual</th>\n",
       "      <th>Predicted</th>\n",
       "    </tr>\n",
       "  </thead>\n",
       "  <tbody>\n",
       "    <tr>\n",
       "      <th>8</th>\n",
       "      <td>81</td>\n",
       "      <td>83.188141</td>\n",
       "    </tr>\n",
       "    <tr>\n",
       "      <th>16</th>\n",
       "      <td>30</td>\n",
       "      <td>27.032088</td>\n",
       "    </tr>\n",
       "    <tr>\n",
       "      <th>0</th>\n",
       "      <td>21</td>\n",
       "      <td>27.032088</td>\n",
       "    </tr>\n",
       "    <tr>\n",
       "      <th>23</th>\n",
       "      <td>76</td>\n",
       "      <td>69.633232</td>\n",
       "    </tr>\n",
       "    <tr>\n",
       "      <th>11</th>\n",
       "      <td>62</td>\n",
       "      <td>59.951153</td>\n",
       "    </tr>\n",
       "  </tbody>\n",
       "</table>\n",
       "</div>"
      ],
      "text/plain": [
       "    Actual  Predicted\n",
       "8       81  83.188141\n",
       "16      30  27.032088\n",
       "0       21  27.032088\n",
       "23      76  69.633232\n",
       "11      62  59.951153"
      ]
     },
     "execution_count": 88,
     "metadata": {},
     "output_type": "execute_result"
    }
   ],
   "source": [
    "actual_vs_predicted = pd.DataFrame({'Actual':y_test,'Predicted':y_pred})\n",
    "actual_vs_predicted"
   ]
  },
  {
   "cell_type": "markdown",
   "id": "d91bb3a6",
   "metadata": {},
   "source": [
    "##### Checking the difference between the actual and the predicted values"
   ]
  },
  {
   "cell_type": "code",
   "execution_count": 89,
   "id": "6eb7208d",
   "metadata": {},
   "outputs": [
    {
     "data": {
      "text/html": [
       "<div>\n",
       "<style scoped>\n",
       "    .dataframe tbody tr th:only-of-type {\n",
       "        vertical-align: middle;\n",
       "    }\n",
       "\n",
       "    .dataframe tbody tr th {\n",
       "        vertical-align: top;\n",
       "    }\n",
       "\n",
       "    .dataframe thead th {\n",
       "        text-align: right;\n",
       "    }\n",
       "</style>\n",
       "<table border=\"1\" class=\"dataframe\">\n",
       "  <thead>\n",
       "    <tr style=\"text-align: right;\">\n",
       "      <th></th>\n",
       "      <th>Actual</th>\n",
       "      <th>Predicted</th>\n",
       "      <th>Difference</th>\n",
       "    </tr>\n",
       "  </thead>\n",
       "  <tbody>\n",
       "    <tr>\n",
       "      <th>8</th>\n",
       "      <td>81</td>\n",
       "      <td>83.188141</td>\n",
       "      <td>-2.188141</td>\n",
       "    </tr>\n",
       "    <tr>\n",
       "      <th>16</th>\n",
       "      <td>30</td>\n",
       "      <td>27.032088</td>\n",
       "      <td>2.967912</td>\n",
       "    </tr>\n",
       "    <tr>\n",
       "      <th>0</th>\n",
       "      <td>21</td>\n",
       "      <td>27.032088</td>\n",
       "      <td>-6.032088</td>\n",
       "    </tr>\n",
       "    <tr>\n",
       "      <th>23</th>\n",
       "      <td>76</td>\n",
       "      <td>69.633232</td>\n",
       "      <td>6.366768</td>\n",
       "    </tr>\n",
       "    <tr>\n",
       "      <th>11</th>\n",
       "      <td>62</td>\n",
       "      <td>59.951153</td>\n",
       "      <td>2.048847</td>\n",
       "    </tr>\n",
       "  </tbody>\n",
       "</table>\n",
       "</div>"
      ],
      "text/plain": [
       "    Actual  Predicted  Difference\n",
       "8       81  83.188141   -2.188141\n",
       "16      30  27.032088    2.967912\n",
       "0       21  27.032088   -6.032088\n",
       "23      76  69.633232    6.366768\n",
       "11      62  59.951153    2.048847"
      ]
     },
     "execution_count": 89,
     "metadata": {},
     "output_type": "execute_result"
    }
   ],
   "source": [
    "actual_vs_predicted['Difference'] = actual_vs_predicted.Actual - actual_vs_predicted.Predicted\n",
    "actual_vs_predicted"
   ]
  },
  {
   "cell_type": "markdown",
   "id": "c3223491",
   "metadata": {},
   "source": [
    "##### Visualising the diffrence between the actual and predicted values"
   ]
  },
  {
   "cell_type": "code",
   "execution_count": 128,
   "id": "2f05c811",
   "metadata": {},
   "outputs": [
    {
     "data": {
      "image/png": "[encoded data removed]",
      "text/plain": [
       "<Figure size 432x288 with 1 Axes>"
      ]
     },
     "metadata": {
      "needs_background": "light"
     },
     "output_type": "display_data"
    }
   ],
   "source": [
    "sns.kdeplot(actual_vs_predicted.Actual)\n",
    "sns.kdeplot(actual_vs_predicted.Predicted)\n",
    "xlabel = \"Actual\"\n",
    "ylabel = \"Prediction\""
   ]
  },
  {
   "cell_type": "markdown",
   "id": "3c6c6f2e",
   "metadata": {},
   "source": [
    "##### Very similar predictions"
   ]
  },
  {
   "cell_type": "markdown",
   "id": "c294f462",
   "metadata": {},
   "source": [
    "# Model Evaluation"
   ]
  },
  {
   "cell_type": "code",
   "execution_count": 129,
   "id": "4679e03a",
   "metadata": {},
   "outputs": [
    {
     "name": "stdout",
     "output_type": "stream",
     "text": [
      "MAE 3.9207511902099244\n",
      "MSE 18.943211722315272\n",
      "RMSE 4.352380006653288\n",
      "R2 96.78055545167994\n",
      "Adjusted R^2: 0.9570740726890659\n"
     ]
    }
   ],
   "source": [
    "from sklearn import metrics\n",
    "from sklearn.metrics import accuracy_score ,classification_report,confusion_matrix,mean_absolute_error,mean_squared_error,r2_score\n",
    "\n",
    "#checking reports\n",
    "\n",
    "print('MAE',mean_absolute_error(y_test,y_pred))\n",
    "\n",
    "print('MSE',mean_squared_error(y_test,y_pred))\n",
    "\n",
    "print('RMSE',np.sqrt(mean_squared_error(y_test,y_pred)))\n",
    "\n",
    "print('R2',r2_score(y_test,y_pred)*100)\n",
    "\n",
    "print('Adjusted R^2:',1 - (1-metrics.r2_score(y_test,y_pred))*(len(y_test)-1)/(len(y_test)-X_test.shape[1]-1))\n"
   ]
  },
  {
   "cell_type": "markdown",
   "id": "ed54e9a5",
   "metadata": {},
   "source": [
    "#### The model is 95.7% accurate"
   ]
  },
  {
   "cell_type": "markdown",
   "id": "13133853",
   "metadata": {},
   "source": [
    "## Making predictions for score when total hours = 9.25"
   ]
  },
  {
   "cell_type": "code",
   "execution_count": 131,
   "id": "0e9cf4a6",
   "metadata": {},
   "outputs": [
    {
     "name": "stdout",
     "output_type": "stream",
     "text": [
      "No of Hours = 9.25\n",
      "Predicted Score = 92.38611528261494\n"
     ]
    }
   ],
   "source": [
    "hours = 9.25\n",
    "\n",
    "hours = np.array([[hours]],)\n",
    "\n",
    "new_pred = lm.predict(hours)\n",
    "\n",
    "print(\"No of Hours = {}\".format(hours[0][0]))\n",
    "print(\"Predicted Score = {}\".format(new_pred[0]))"
   ]
  },
  {
   "cell_type": "code",
   "execution_count": null,
   "id": "7eb258f2",
   "metadata": {},
   "outputs": [],
   "source": []
  }
 ],
 "metadata": {
  "kernelspec": {
   "display_name": "Python 3",
   "language": "python",
   "name": "python3"
  },
  "language_info": {
   "codemirror_mode": {
    "name": "ipython",
    "version": 3
   },
   "file_extension": ".py",
   "mimetype": "text/x-python",
   "name": "python",
   "nbconvert_exporter": "python",
   "pygments_lexer": "ipython3",
   "version": "3.9.1"
  }
 },
 "nbformat": 4,
 "nbformat_minor": 5
}
